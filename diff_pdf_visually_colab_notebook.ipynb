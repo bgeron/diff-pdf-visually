{
  "nbformat": 4,
  "nbformat_minor": 0,
  "metadata": {
    "colab": {
      "provenance": [],
      "authorship_tag": "ABX9TyMs862atIBWPbCZqN9fsie+",
      "include_colab_link": true
    },
    "kernelspec": {
      "name": "python3",
      "display_name": "Python 3"
    },
    "language_info": {
      "name": "python"
    }
  },
  "cells": [
    {
      "cell_type": "markdown",
      "metadata": {
        "id": "view-in-github",
        "colab_type": "text"
      },
      "source": [
        "<a href=\"https://colab.research.google.com/github/zaakki-ahamed/diff-pdf-visually/blob/main/diff_pdf_visually_colab_notebook.ipynb\" target=\"_parent\"><img src=\"https://colab.research.google.com/assets/colab-badge.svg\" alt=\"Open In Colab\"/></a>"
      ]
    },
    {
      "cell_type": "markdown",
      "source": [
        "# Welcome to the \"**Diff-pdf-visually**\" Google Colab Notebook"
      ],
      "metadata": {
        "id": "3Y-TaAX_cmuV"
      }
    },
    {
      "cell_type": "markdown",
      "source": [
        "#Instructions -\n",
        "\n",
        "1.   Upload the PDF files to the notebook from the \"Files\" tab on the left\n",
        "2.   Execute the cells one by one.\n",
        "3.   Check the diff either using the command line or python code. **Make sure to replace \"a.pdf\" and \"b.pdf\" with the path to the uploaded files**\n",
        "\n"
      ],
      "metadata": {
        "id": "I5nqcdoEcvrm"
      }
    },
    {
      "cell_type": "markdown",
      "source": [
        "## Install necessary packages"
      ],
      "metadata": {
        "id": "usTRwyzOdHpS"
      }
    },
    {
      "cell_type": "code",
      "execution_count": null,
      "metadata": {
        "id": "f4qnFO7icZIZ"
      },
      "outputs": [],
      "source": [
        "!apt install python3-pip imagemagick poppler-utils\n",
        "!pip3 install --user diff-pdf-visually"
      ]
    },
    {
      "cell_type": "markdown",
      "source": [
        "## Check installation and display syntax"
      ],
      "metadata": {
        "id": "f9ddV8fCdVDq"
      }
    },
    {
      "cell_type": "code",
      "source": [
        "!python3 -m diff_pdf_visually"
      ],
      "metadata": {
        "id": "3mkTt8PJdZDM"
      },
      "execution_count": null,
      "outputs": []
    },
    {
      "cell_type": "markdown",
      "source": [
        "## Check the Diff"
      ],
      "metadata": {
        "id": "EqM2WoWneB1w"
      }
    },
    {
      "cell_type": "markdown",
      "source": [
        "### Check the Diff using command line\n",
        "\n",
        "Note- Verbose output is enabled with \"-v\". Remove it if necessary"
      ],
      "metadata": {
        "id": "gRAGN5LPdemH"
      }
    },
    {
      "cell_type": "code",
      "source": [
        "!python3 -m diff_pdf_visually -v /content/a.pdf /content/b.pdf"
      ],
      "metadata": {
        "id": "W0fr_Kwrdk7u"
      },
      "execution_count": null,
      "outputs": []
    },
    {
      "cell_type": "markdown",
      "source": [
        "### Check the Diff using Python"
      ],
      "metadata": {
        "id": "4LY8Cojzd9Kr"
      }
    },
    {
      "cell_type": "code",
      "source": [
        "from diff_pdf_visually import pdf_similar\n",
        "\n",
        "# Returns True or False\n",
        "pdf_similar(\"/content/a.pdf\", \"/content/b.pdf\")"
      ],
      "metadata": {
        "id": "_2vJ1jPGeJgd"
      },
      "execution_count": null,
      "outputs": []
    }
  ]
}